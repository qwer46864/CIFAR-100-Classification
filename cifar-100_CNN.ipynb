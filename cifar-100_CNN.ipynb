{
 "cells": [
  {
   "cell_type": "code",
   "execution_count": 1,
   "metadata": {},
   "outputs": [],
   "source": [
    "import tensorflow as tf\n",
    "\n",
    "(train_data, train_labels), (test_data, test_labels) = tf.keras.datasets.cifar100.load_data(label_mode='coarse')"
   ]
  },
  {
   "cell_type": "code",
   "execution_count": 2,
   "metadata": {},
   "outputs": [
    {
     "data": {
      "text/plain": [
       "(50000, 32, 32, 3)"
      ]
     },
     "execution_count": 2,
     "metadata": {},
     "output_type": "execute_result"
    }
   ],
   "source": [
    "train_data.shape"
   ]
  },
  {
   "cell_type": "code",
   "execution_count": 3,
   "metadata": {},
   "outputs": [],
   "source": [
    "#One-hot encoding\n",
    "from tensorflow.keras.utils import to_categorical\n",
    "\n",
    "train_labels = to_categorical(train_labels)\n",
    "test_labels = to_categorical(test_labels)"
   ]
  },
  {
   "cell_type": "code",
   "execution_count": 4,
   "metadata": {},
   "outputs": [
    {
     "name": "stderr",
     "output_type": "stream",
     "text": [
      "E:\\Anaconda\\lib\\site-packages\\keras_preprocessing\\image\\image_data_generator.py:341: UserWarning: This ImageDataGenerator specifies `zca_whitening` which overrides setting of`featurewise_std_normalization`.\n",
      "  warnings.warn('This ImageDataGenerator specifies '\n"
     ]
    }
   ],
   "source": [
    "#Preprocessing: Standardisation and ZCA\n",
    "from tensorflow.keras.preprocessing.image import ImageDataGenerator\n",
    "\n",
    "datagen = ImageDataGenerator(\n",
    "    featurewise_center=True,\n",
    "    featurewise_std_normalization=True,\n",
    "    rotation_range=20,\n",
    "    width_shift_range=0.2,\n",
    "    height_shift_range=0.2,\n",
    "    horizontal_flip=True,\n",
    "    zca_epsilon=1e-5,\n",
    "    zca_whitening=True)"
   ]
  },
  {
   "cell_type": "code",
   "execution_count": 5,
   "metadata": {},
   "outputs": [],
   "source": [
    "datagen.fit(train_data)"
   ]
  },
  {
   "cell_type": "code",
   "execution_count": 6,
   "metadata": {},
   "outputs": [
    {
     "name": "stderr",
     "output_type": "stream",
     "text": [
      "Using TensorFlow backend.\n"
     ]
    }
   ],
   "source": [
    "#Model architecture similar to VGG2016\n",
    "\n",
    "import keras\n",
    "from keras.layers import Conv2D, MaxPooling2D, Flatten, Dense\n",
    "\n",
    "model = keras.Sequential()\n",
    " \n",
    "model.add(Conv2D(32, (3, 3), activation='relu', padding = 'same', input_shape = (32,32,3)))\n",
    "model.add(MaxPooling2D((2, 2)))\n",
    "model.add(Conv2D(64, (3, 3), activation='relu', padding = 'same'))\n",
    "model.add(MaxPooling2D((2, 2)))\n",
    "model.add(Conv2D(128, (3, 3), activation='relu', padding = 'same'))\n",
    "model.add(MaxPooling2D((2, 2)))\n",
    "          \n",
    "model.add(Flatten())\n",
    "model.add(Dense(128, activation='relu'))\n",
    "model.add(Dense(20, activation='softmax'))"
   ]
  },
  {
   "cell_type": "code",
   "execution_count": 7,
   "metadata": {},
   "outputs": [],
   "source": [
    "from tensorflow.keras.optimizers import Adam\n",
    "optimizer = Adam(lr=0.001)\n",
    "model.compile(optimizer=optimizer, loss='categorical_crossentropy', metrics=['accuracy'])"
   ]
  },
  {
   "cell_type": "code",
   "execution_count": 26,
   "metadata": {},
   "outputs": [
    {
     "data": {
      "image/png": "[encoded data removed]",
      "text/plain": [
       "<Figure size 432x288 with 1 Axes>"
      ]
     },
     "metadata": {
      "needs_background": "light"
     },
     "output_type": "display_data"
    }
   ],
   "source": [
    "%matplotlib inline\n",
    "\n",
    "import matplotlib.pyplot as plt\n",
    "\n",
    "epochs = [i for i in range(100)]\n",
    "\n",
    "plt.plot(epochs, history.history['accuracy'], label = 'Training accuracy')\n",
    "\n",
    "plt.plot(epochs, history.history['val_accuracy'], label = 'Validation accuracy')\n",
    "\n",
    "plt.legend()\n",
    "plt.xlabel('Epochs')\n",
    "plt.ylabel('Accuracy')\n",
    "\n",
    "plt.savefig('D:\\Assignment_2\\CNN_loss.png')"
   ]
  },
  {
   "cell_type": "code",
   "execution_count": 8,
   "metadata": {},
   "outputs": [
    {
     "name": "stdout",
     "output_type": "stream",
     "text": [
      "Epoch 1/59\n",
      "1563/1562 [==============================] - 163s 104ms/step - loss: 2.4393 - accuracy: 0.2449 - val_loss: 1.8183 - val_accuracy: 0.3375\n",
      "Epoch 2/59\n",
      "1563/1562 [==============================] - 147s 94ms/step - loss: 1.9731 - accuracy: 0.3835 - val_loss: 1.7767 - val_accuracy: 0.4094\n",
      "Epoch 3/59\n",
      "1563/1562 [==============================] - 149s 95ms/step - loss: 1.8100 - accuracy: 0.4339 - val_loss: 1.7718 - val_accuracy: 0.4313\n",
      "Epoch 4/59\n",
      "1563/1562 [==============================] - 157s 101ms/step - loss: 1.7162 - accuracy: 0.4597 - val_loss: 2.4886 - val_accuracy: 0.4313\n",
      "Epoch 5/59\n",
      "1563/1562 [==============================] - 158s 101ms/step - loss: 1.6482 - accuracy: 0.4825 - val_loss: 1.5211 - val_accuracy: 0.5156\n",
      "Epoch 6/59\n",
      "1563/1562 [==============================] - 161s 103ms/step - loss: 1.6019 - accuracy: 0.4968 - val_loss: 1.7769 - val_accuracy: 0.4938\n",
      "Epoch 7/59\n",
      "1563/1562 [==============================] - 162s 104ms/step - loss: 1.5558 - accuracy: 0.5116 - val_loss: 1.3898 - val_accuracy: 0.5219\n",
      "Epoch 8/59\n",
      "1563/1562 [==============================] - 166s 106ms/step - loss: 1.5208 - accuracy: 0.5210 - val_loss: 1.4076 - val_accuracy: 0.5437\n",
      "Epoch 9/59\n",
      "1563/1562 [==============================] - 162s 104ms/step - loss: 1.4975 - accuracy: 0.5282 - val_loss: 0.9803 - val_accuracy: 0.5031\n",
      "Epoch 10/59\n",
      "1563/1562 [==============================] - 163s 104ms/step - loss: 1.4794 - accuracy: 0.5320 - val_loss: 1.5455 - val_accuracy: 0.5156\n",
      "Epoch 11/59\n",
      "1563/1562 [==============================] - 164s 105ms/step - loss: 1.4558 - accuracy: 0.5417 - val_loss: 1.7011 - val_accuracy: 0.5281\n",
      "Epoch 12/59\n",
      "1563/1562 [==============================] - 163s 105ms/step - loss: 1.4381 - accuracy: 0.5464 - val_loss: 1.6193 - val_accuracy: 0.5375\n",
      "Epoch 13/59\n",
      "1563/1562 [==============================] - 162s 104ms/step - loss: 1.4176 - accuracy: 0.5525 - val_loss: 1.0821 - val_accuracy: 0.5219\n",
      "Epoch 14/59\n",
      "1563/1562 [==============================] - 156s 100ms/step - loss: 1.4064 - accuracy: 0.5546 - val_loss: 2.1974 - val_accuracy: 0.5500\n",
      "Epoch 15/59\n",
      "1563/1562 [==============================] - 156s 100ms/step - loss: 1.3892 - accuracy: 0.5595 - val_loss: 1.3497 - val_accuracy: 0.5531\n",
      "Epoch 16/59\n",
      "1563/1562 [==============================] - 156s 100ms/step - loss: 1.3812 - accuracy: 0.5636 - val_loss: 1.1888 - val_accuracy: 0.5375\n",
      "Epoch 17/59\n",
      "1563/1562 [==============================] - 164s 105ms/step - loss: 1.3647 - accuracy: 0.5671 - val_loss: 1.2253 - val_accuracy: 0.5500\n",
      "Epoch 18/59\n",
      "1563/1562 [==============================] - 167s 107ms/step - loss: 1.3568 - accuracy: 0.5699 - val_loss: 1.2416 - val_accuracy: 0.5531\n",
      "Epoch 19/59\n",
      "1563/1562 [==============================] - 162s 104ms/step - loss: 1.3463 - accuracy: 0.5723 - val_loss: 1.4112 - val_accuracy: 0.4750\n",
      "Epoch 20/59\n",
      "1563/1562 [==============================] - 160s 102ms/step - loss: 1.3335 - accuracy: 0.5787 - val_loss: 1.8058 - val_accuracy: 0.5406\n",
      "Epoch 21/59\n",
      "1563/1562 [==============================] - 163s 105ms/step - loss: 1.3197 - accuracy: 0.5802 - val_loss: 1.5623 - val_accuracy: 0.5688\n",
      "Epoch 22/59\n",
      "1563/1562 [==============================] - 172s 110ms/step - loss: 1.3213 - accuracy: 0.5798 - val_loss: 1.0647 - val_accuracy: 0.5656\n",
      "Epoch 23/59\n",
      "1563/1562 [==============================] - 173s 111ms/step - loss: 1.3125 - accuracy: 0.5805 - val_loss: 1.3159 - val_accuracy: 0.5531\n",
      "Epoch 24/59\n",
      "1563/1562 [==============================] - 171s 109ms/step - loss: 1.3008 - accuracy: 0.5884 - val_loss: 1.4625 - val_accuracy: 0.5844\n",
      "Epoch 25/59\n",
      "1563/1562 [==============================] - 171s 109ms/step - loss: 1.2959 - accuracy: 0.5871 - val_loss: 0.9637 - val_accuracy: 0.5344\n",
      "Epoch 26/59\n",
      "1563/1562 [==============================] - 176s 113ms/step - loss: 1.2892 - accuracy: 0.5927 - val_loss: 1.7527 - val_accuracy: 0.5875\n",
      "Epoch 27/59\n",
      "1563/1562 [==============================] - 167s 107ms/step - loss: 1.2789 - accuracy: 0.5941 - val_loss: 0.9473 - val_accuracy: 0.5312\n",
      "Epoch 28/59\n",
      "1563/1562 [==============================] - 192s 123ms/step - loss: 1.2728 - accuracy: 0.5951 - val_loss: 1.0999 - val_accuracy: 0.5750\n",
      "Epoch 29/59\n",
      "1563/1562 [==============================] - 213s 136ms/step - loss: 1.2693 - accuracy: 0.5967 - val_loss: 1.7048 - val_accuracy: 0.5469\n",
      "Epoch 30/59\n",
      "1563/1562 [==============================] - 217s 139ms/step - loss: 1.2648 - accuracy: 0.5976 - val_loss: 1.8793 - val_accuracy: 0.5125\n",
      "Epoch 31/59\n",
      "1563/1562 [==============================] - 210s 134ms/step - loss: 1.2592 - accuracy: 0.5975 - val_loss: 1.0022 - val_accuracy: 0.5594\n",
      "Epoch 32/59\n",
      "1563/1562 [==============================] - 206s 132ms/step - loss: 1.2528 - accuracy: 0.6030 - val_loss: 1.7100 - val_accuracy: 0.5691\n",
      "Epoch 33/59\n",
      "1563/1562 [==============================] - 191s 122ms/step - loss: 1.2525 - accuracy: 0.6008 - val_loss: 1.8044 - val_accuracy: 0.5750\n",
      "Epoch 34/59\n",
      "1563/1562 [==============================] - 192s 123ms/step - loss: 1.2388 - accuracy: 0.6060 - val_loss: 2.0648 - val_accuracy: 0.5688\n",
      "Epoch 35/59\n",
      "1563/1562 [==============================] - 189s 121ms/step - loss: 1.2387 - accuracy: 0.6048 - val_loss: 1.7027 - val_accuracy: 0.5656\n",
      "Epoch 36/59\n",
      "1563/1562 [==============================] - 183s 117ms/step - loss: 1.2239 - accuracy: 0.6114 - val_loss: 0.8567 - val_accuracy: 0.5969\n",
      "Epoch 37/59\n",
      "1563/1562 [==============================] - 175s 112ms/step - loss: 1.2369 - accuracy: 0.6059 - val_loss: 1.6887 - val_accuracy: 0.5406\n",
      "Epoch 38/59\n",
      "1563/1562 [==============================] - 176s 113ms/step - loss: 1.2234 - accuracy: 0.6113 - val_loss: 1.5650 - val_accuracy: 0.5969\n",
      "Epoch 39/59\n",
      "1563/1562 [==============================] - 191s 122ms/step - loss: 1.2257 - accuracy: 0.6098 - val_loss: 2.1575 - val_accuracy: 0.5063\n",
      "Epoch 40/59\n",
      "1563/1562 [==============================] - 182s 117ms/step - loss: 1.2233 - accuracy: 0.6127 - val_loss: 1.3337 - val_accuracy: 0.5531\n",
      "Epoch 41/59\n",
      "1563/1562 [==============================] - 183s 117ms/step - loss: 1.2155 - accuracy: 0.6138 - val_loss: 1.2276 - val_accuracy: 0.5625\n",
      "Epoch 42/59\n",
      "1563/1562 [==============================] - 186s 119ms/step - loss: 1.2228 - accuracy: 0.6129 - val_loss: 1.9022 - val_accuracy: 0.5625\n",
      "Epoch 43/59\n",
      "1563/1562 [==============================] - 184s 118ms/step - loss: 1.2145 - accuracy: 0.6150 - val_loss: 1.2537 - val_accuracy: 0.5469\n",
      "Epoch 44/59\n",
      "1563/1562 [==============================] - 175s 112ms/step - loss: 1.2021 - accuracy: 0.6157 - val_loss: 1.2425 - val_accuracy: 0.5375\n",
      "Epoch 45/59\n",
      "1563/1562 [==============================] - 179s 115ms/step - loss: 1.1933 - accuracy: 0.6201 - val_loss: 1.5192 - val_accuracy: 0.6156\n",
      "Epoch 46/59\n",
      "1563/1562 [==============================] - 174s 111ms/step - loss: 1.2052 - accuracy: 0.6152 - val_loss: 1.3854 - val_accuracy: 0.5844\n",
      "Epoch 47/59\n",
      "1563/1562 [==============================] - 180s 115ms/step - loss: 1.2022 - accuracy: 0.6167 - val_loss: 1.4633 - val_accuracy: 0.5906\n",
      "Epoch 48/59\n",
      "1563/1562 [==============================] - 192s 123ms/step - loss: 1.1897 - accuracy: 0.6212 - val_loss: 1.2340 - val_accuracy: 0.5656\n",
      "Epoch 49/59\n",
      "1563/1562 [==============================] - 189s 121ms/step - loss: 1.1985 - accuracy: 0.6196 - val_loss: 1.2394 - val_accuracy: 0.6062\n",
      "Epoch 50/59\n",
      "1563/1562 [==============================] - 189s 121ms/step - loss: 1.1910 - accuracy: 0.6192 - val_loss: 1.5433 - val_accuracy: 0.6156\n",
      "Epoch 51/59\n",
      "1563/1562 [==============================] - 186s 119ms/step - loss: 1.1930 - accuracy: 0.6210 - val_loss: 1.7625 - val_accuracy: 0.5188\n",
      "Epoch 52/59\n",
      "1563/1562 [==============================] - 185s 118ms/step - loss: 1.1802 - accuracy: 0.6251 - val_loss: 1.5561 - val_accuracy: 0.4938\n",
      "Epoch 53/59\n",
      "1563/1562 [==============================] - 178s 114ms/step - loss: 1.1890 - accuracy: 0.6217 - val_loss: 1.4838 - val_accuracy: 0.5312\n",
      "Epoch 54/59\n",
      "1563/1562 [==============================] - 182s 116ms/step - loss: 1.1816 - accuracy: 0.6211 - val_loss: 1.1209 - val_accuracy: 0.5938\n",
      "Epoch 55/59\n",
      "1563/1562 [==============================] - 168s 107ms/step - loss: 1.1830 - accuracy: 0.6237 - val_loss: 1.5736 - val_accuracy: 0.5875\n",
      "Epoch 56/59\n"
     ]
    },
    {
     "name": "stdout",
     "output_type": "stream",
     "text": [
      "1563/1562 [==============================] - 164s 105ms/step - loss: 1.1890 - accuracy: 0.6234 - val_loss: 1.6316 - val_accuracy: 0.5562\n",
      "Epoch 57/59\n",
      "1563/1562 [==============================] - 164s 105ms/step - loss: 1.1752 - accuracy: 0.6269 - val_loss: 1.6824 - val_accuracy: 0.5719\n",
      "Epoch 58/59\n",
      "1563/1562 [==============================] - 163s 104ms/step - loss: 1.1729 - accuracy: 0.6266 - val_loss: 1.5397 - val_accuracy: 0.5688\n",
      "Epoch 59/59\n",
      "1563/1562 [==============================] - 163s 104ms/step - loss: 1.1702 - accuracy: 0.6294 - val_loss: 1.3773 - val_accuracy: 0.5906\n"
     ]
    }
   ],
   "source": [
    "#training till epoch 59\n",
    "\n",
    "history = model.fit(datagen.flow(train_data, train_labels, batch_size=32),\n",
    "              steps_per_epoch=len(train_data)/ 32, epochs=59,\n",
    "              validation_data = datagen.flow(test_data, test_labels), validation_steps = 10)"
   ]
  },
  {
   "cell_type": "code",
   "execution_count": null,
   "metadata": {},
   "outputs": [],
   "source": [
    "folds = []\n",
    "i = 1\n",
    "\n",
    "from sklearn.model_selection import KFold\n",
    "kf = KFold(n_splits = 10)\n",
    "\n",
    "for data,val in kf.split(train_data):\n",
    "#datagen.flow(data, labels, batch_size=32)\n",
    "    print('Fold '+str(i))\n",
    "    history = model.fit(datagen.flow(train_data[data], train_labels[data], batch_size=32),\n",
    "              steps_per_epoch=len(data)/ 32, epochs=15,\n",
    "              validation_data = datagen.flow(train_data[val], train_labels[val]), validation_steps = 10)\n",
    "    folds.append(history)\n",
    "    i+=1"
   ]
  },
  {
   "cell_type": "code",
   "execution_count": 23,
   "metadata": {},
   "outputs": [
    {
     "data": {
      "text/plain": [
       "(array([58], dtype=int64),)"
      ]
     },
     "execution_count": 23,
     "metadata": {},
     "output_type": "execute_result"
    }
   ],
   "source": [
    "import numpy as np\n",
    "val_accuracy = np.array(history.history['val_accuracy'])\n",
    "np.where(val_accuracy > 0.628)"
   ]
  },
  {
   "cell_type": "code",
   "execution_count": 27,
   "metadata": {},
   "outputs": [
    {
     "name": "stderr",
     "output_type": "stream",
     "text": [
      "E:\\Anaconda\\lib\\site-packages\\keras\\engine\\saving.py:165: UserWarning: TensorFlow optimizers do not make it possible to access optimizer attributes or optimizer state after instantiation. As a result, we cannot save the optimizer as part of the model save file.You will have to compile your model again after loading it. Prefer using a Keras optimizer instead (see keras.io/optimizers).\n",
      "  'TensorFlow optimizers do not '\n"
     ]
    }
   ],
   "source": [
    "model.save('D:\\Assignment_2\\CNN_100epochs')"
   ]
  },
  {
   "cell_type": "code",
   "execution_count": 21,
   "metadata": {},
   "outputs": [],
   "source": [
    "predictions = model.predict(test_data)"
   ]
  },
  {
   "cell_type": "code",
   "execution_count": 26,
   "metadata": {},
   "outputs": [
    {
     "data": {
      "text/plain": [
       "array([0., 0., 0., 0., 0., 1., 0., 0., 0., 0., 0., 0., 0., 0., 0., 0., 0.,\n",
       "       0., 0., 0.], dtype=float32)"
      ]
     },
     "execution_count": 26,
     "metadata": {},
     "output_type": "execute_result"
    }
   ],
   "source": [
    "predictions[3]"
   ]
  },
  {
   "cell_type": "code",
   "execution_count": 20,
   "metadata": {},
   "outputs": [
    {
     "data": {
      "text/plain": [
       "array([5, 5, 5, ..., 5, 5, 5], dtype=int64)"
      ]
     },
     "execution_count": 20,
     "metadata": {},
     "output_type": "execute_result"
    }
   ],
   "source": [
    "predictions"
   ]
  },
  {
   "cell_type": "code",
   "execution_count": 27,
   "metadata": {},
   "outputs": [
    {
     "name": "stdout",
     "output_type": "stream",
     "text": [
      "10000/10000 [==============================] - 7s 723us/step\n"
     ]
    },
    {
     "data": {
      "text/plain": [
       "[4756.243298046875, 0.04910000041127205]"
      ]
     },
     "execution_count": 27,
     "metadata": {},
     "output_type": "execute_result"
    }
   ],
   "source": [
    "model.evaluate(test_data, test_labels)"
   ]
  },
  {
   "cell_type": "code",
   "execution_count": null,
   "metadata": {},
   "outputs": [
    {
     "name": "stdout",
     "output_type": "stream",
     "text": [
      "Epoch 0Batch200\n",
      "Epoch 0Batch400\n",
      "Epoch 0Batch600\n",
      "Epoch 0Batch800\n",
      "Epoch 0Batch1000\n",
      "Epoch 0Batch1200\n",
      "Epoch 0Batch1400\n"
     ]
    }
   ],
   "source": [
    "epochs = 100\n",
    "\n",
    "training_accuracy = []\n",
    "test_accuracy = []\n",
    "\n",
    "for e in range(epochs):\n",
    "    i = 0\n",
    "    for batch_data, batch_labels in datagen.flow(train_data, train_labels, batch_size=32):\n",
    "        i += 1\n",
    "        history = model.fit(batch_data, batch_labels, verbose = 0)\n",
    "        if(i%200==0):\n",
    "            print('Epoch '+str(e)+'Batch' +str(i))\n",
    "        if(i > len(train_data)/32):\n",
    "            break\n",
    "            \n",
    "    model.save('D:\\Assignment_2\\Models\\CNN_'+str(e))\n",
    "    training_accuracy.append(history.history['accuracy'])\n",
    "    test_accuracy.append(model.evaluate(test_data, test_labels)[1])\n",
    "    \n",
    "    print('Epoch '+e+'\\nTraining Accuracy: '+ training_accuracy[e]+'Test Accuracy: '+test_accuracy[e])"
   ]
  },
  {
   "cell_type": "code",
   "execution_count": 8,
   "metadata": {},
   "outputs": [],
   "source": [
    "model.load_weights('D:\\Assignment_2\\CNN_100epochs')"
   ]
  },
  {
   "cell_type": "code",
   "execution_count": 9,
   "metadata": {},
   "outputs": [
    {
     "name": "stdout",
     "output_type": "stream",
     "text": [
      "10000/10000 [==============================] - 2s 196us/step\n"
     ]
    },
    {
     "data": {
      "text/plain": [
       "[4350.443046875, 0.0551999993622303]"
      ]
     },
     "execution_count": 9,
     "metadata": {},
     "output_type": "execute_result"
    }
   ],
   "source": [
    "model.evaluate(test_data, test_labels)"
   ]
  },
  {
   "cell_type": "code",
   "execution_count": null,
   "metadata": {},
   "outputs": [],
   "source": []
  }
 ],
 "metadata": {
  "kernelspec": {
   "display_name": "Python 3",
   "language": "python",
   "name": "python3"
  },
  "language_info": {
   "codemirror_mode": {
    "name": "ipython",
    "version": 3
   },
   "file_extension": ".py",
   "mimetype": "text/x-python",
   "name": "python",
   "nbconvert_exporter": "python",
   "pygments_lexer": "ipython3",
   "version": "3.7.6"
  }
 },
 "nbformat": 4,
 "nbformat_minor": 4
}
